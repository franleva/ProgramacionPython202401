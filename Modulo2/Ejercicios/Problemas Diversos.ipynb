{
 "cells": [
  {
   "cell_type": "markdown",
   "metadata": {},
   "source": [
    "# PROBLEMAS DIVERSOS"
   ]
  },
  {
   "cell_type": "markdown",
   "metadata": {},
   "source": [
    "<h3>1.</h3>\n",
    "Realizar una función que permita la carga de n alumnos. Por cada alumno se deberá preguntar el nombre completo y permitir el ingreso de 3 notas. Las notas deben estar comprendidas entre 0 y 10. Devolver el listado de alumnos."
   ]
  },
  {
   "cell_type": "code",
   "execution_count": 3,
   "metadata": {},
   "outputs": [
    {
     "name": "stdout",
     "output_type": "stream",
     "text": [
      "Cantidad incorrecta\n",
      "Cantidad incorrecta\n",
      "Cantidad incorrecta\n"
     ]
    },
    {
     "data": {
      "text/plain": [
       "1"
      ]
     },
     "execution_count": 3,
     "metadata": {},
     "output_type": "execute_result"
    }
   ],
   "source": [
    "# Ayuda: Sería una buena idea emplear listas y diccionarios para esta parte\n",
    "\n",
    "def ingreso_datos():\n",
    "    try: \n",
    "        n = int(input('Ingresar la cantidad de alumnos: '))\n",
    "        assert n>0, 'Cantidad es negativa'\n",
    "\n",
    "        return n\n",
    "    except:\n",
    "        print('Cantidad incorrecta')\n",
    "        return ingreso_datos()\n",
    "    \n",
    "cantidad = ingreso_datos()\n",
    "cantidad\n"
   ]
  },
  {
   "cell_type": "code",
   "execution_count": 5,
   "metadata": {},
   "outputs": [
    {
     "name": "stdout",
     "output_type": "stream",
     "text": [
      "=====1=====\n",
      "=====2=====\n",
      "Nota invalida, vuelva a intentar!!!\n",
      "=====3=====\n",
      "=====4=====\n",
      "[{'nombre': 'Juan', 'nota1': 10.0, 'nota2': 10.0, 'nota3': 10.0},\n",
      " {'nombre': 'Emilio', 'nota1': 5.0, 'nota2': 4.0, 'nota3': 6.0},\n",
      " {'nombre': 'Jorge', 'nota1': 7.0, 'nota2': 8.0, 'nota3': 9.0},\n",
      " {'nombre': 'David', 'nota1': 5.0, 'nota2': 5.0, 'nota3': 5.0}]\n"
     ]
    }
   ],
   "source": [
    "from pprint import pprint\n",
    "def ingreso_notas():\n",
    "\n",
    "    try:\n",
    "        nota = float(input('Ingrese una nota entre 0 y 10: '))\n",
    "        assert nota<=10 and nota>=0, 'Nota fuera de rango'\n",
    "        return nota\n",
    "    except:\n",
    "        print('Nota invalida, vuelva a intentar!!!')\n",
    "        return ingreso_notas()\n",
    "\n",
    "listado_alumnos = []\n",
    "for i in range(cantidad):\n",
    "    print('='*5 + str(i+1)+ '='*5)\n",
    "    alumno = {}\n",
    "\n",
    "    alumno['nombre'] = input('Ingresel nombre del Alumno: ')\n",
    "    alumno['nota1'] = ingreso_notas()\n",
    "    alumno['nota2'] = ingreso_notas()\n",
    "    alumno['nota3'] = ingreso_notas()\n",
    "    listado_alumnos.append(alumno)\n",
    "\n",
    "pprint(listado_alumnos)\n"
   ]
  },
  {
   "cell_type": "markdown",
   "metadata": {},
   "source": [
    "### 2.\n",
    "Definir una función que dado un listado de alumnos evalúe cuántos aprobaron y cuántos desaprobaron, teniendo en cuenta que se aprueba con 4. La nota será el promedio de las 3 notas para cada alumno."
   ]
  },
  {
   "cell_type": "code",
   "execution_count": null,
   "metadata": {},
   "outputs": [],
   "source": []
  },
  {
   "cell_type": "markdown",
   "metadata": {},
   "source": [
    "### 3.\n",
    "Informar el promedio de nota del curso total."
   ]
  },
  {
   "cell_type": "code",
   "execution_count": null,
   "metadata": {},
   "outputs": [],
   "source": []
  },
  {
   "cell_type": "markdown",
   "metadata": {},
   "source": [
    "### 4.\n",
    "Realizar una función que indique quién tuvo el promedio más alto y quién tuvo la nota promedio más baja."
   ]
  },
  {
   "cell_type": "code",
   "execution_count": null,
   "metadata": {},
   "outputs": [],
   "source": []
  },
  {
   "cell_type": "markdown",
   "metadata": {},
   "source": [
    "### 5.\n",
    "Realizar una función que permita buscar un alumno por nombre, siendo el nombre completo o parcial, y devuelva una lista con los n alumnos que concuerden con ese nombre junto con todos sus datos, incluido el promedio de sus notas."
   ]
  },
  {
   "cell_type": "code",
   "execution_count": null,
   "metadata": {},
   "outputs": [],
   "source": []
  }
 ],
 "metadata": {
  "kernelspec": {
   "display_name": "Python 3",
   "language": "python",
   "name": "python3"
  },
  "language_info": {
   "codemirror_mode": {
    "name": "ipython",
    "version": 3
   },
   "file_extension": ".py",
   "mimetype": "text/x-python",
   "name": "python",
   "nbconvert_exporter": "python",
   "pygments_lexer": "ipython3",
   "version": "3.10.13"
  }
 },
 "nbformat": 4,
 "nbformat_minor": 4
}
