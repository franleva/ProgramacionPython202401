{
 "cells": [
  {
   "cell_type": "markdown",
   "metadata": {},
   "source": [
    "# FLUJO DE CONTROL"
   ]
  },
  {
   "cell_type": "markdown",
   "metadata": {},
   "source": [
    "En programación, los flujos de control son aquellos que nos ayudarán en la toma de decisiones sobre nuestros programas. \n",
    "\n",
    "Ejemplo:\n",
    "- Si el precio del limon es mayor a 10 soles, entonces no comprar."
   ]
  },
  {
   "cell_type": "markdown",
   "metadata": {},
   "source": [
    "<center> <img src='https://3.bp.blogspot.com/-vRouRKZaj9M/UbdSfGNif4I/AAAAAAAAAHQ/X5wOYnb-B5o/s1600/if-else.png' width=\"400\" height=\"250\"></center>"
   ]
  },
  {
   "cell_type": "markdown",
   "metadata": {},
   "source": [
    "## 1.Sentencia (if - else) "
   ]
  },
  {
   "cell_type": "markdown",
   "metadata": {},
   "source": [
    "El uso de condiciones nos permite tener un mayor control sobre el flujo del programa."
   ]
  },
  {
   "cell_type": "code",
   "execution_count": 1,
   "metadata": {},
   "outputs": [
    {
     "name": "stdout",
     "output_type": "stream",
     "text": [
      "Bienvenido!!\n"
     ]
    }
   ],
   "source": [
    "# Sentencia if (si) -> se activa cuando el valor de mi condicional es True\n",
    "\n",
    "password = '1234'\n",
    "\n",
    "if password=='1234':\n",
    "    print('Bienvenido!!')\n"
   ]
  },
  {
   "cell_type": "code",
   "execution_count": 1,
   "metadata": {},
   "outputs": [
    {
     "name": "stdout",
     "output_type": "stream",
     "text": [
      "Bienvenido!!\n"
     ]
    }
   ],
   "source": [
    "# Sentencia if (si) -> se activa cuando el valor de mi condicional es True\n",
    "\n",
    "password = '1234'\n",
    "\n",
    "if password=='1234':\n",
    "    print('Bienvenido!!')\n",
    "else:\n",
    "    print('error')"
   ]
  },
  {
   "cell_type": "code",
   "execution_count": 2,
   "metadata": {},
   "outputs": [
    {
     "name": "stdout",
     "output_type": "stream",
     "text": [
      "el valor de x = 85 es distinto de 8\n"
     ]
    }
   ],
   "source": [
    "# Sentencia else (si no) -> sentencias 'else' se activan si condicional es False\n",
    "x = 85\n",
    "if x == 8 :\n",
    "    # 4 espacios\n",
    "    print('el valor de x es 8')\n",
    "else:\n",
    "    print('el valor de x = {} es distinto de 8'.format(x))"
   ]
  },
  {
   "cell_type": "code",
   "execution_count": 5,
   "metadata": {},
   "outputs": [
    {
     "name": "stdout",
     "output_type": "stream",
     "text": [
      "el valor de x = 85 es distinto de 8\n"
     ]
    }
   ],
   "source": [
    "# Sentencia else (si no) -> sentencias 'else' se activan si condicional es False\n",
    "x = 85\n",
    "# if -> evalua una condicion de verdad, se ejecuta si esta es verdadera\n",
    "if x == 8 :\n",
    "    # 4 espacios\n",
    "    print('el valor de x es 8')\n",
    "# si condicion es falsa, entonces se ejecuta\n",
    "else:\n",
    "    print('el valor de x = {} y es distinto de 8'.format(x))"
   ]
  },
  {
   "cell_type": "markdown",
   "metadata": {},
   "source": [
    "## 2. Sentencia elif (sino si)"
   ]
  },
  {
   "cell_type": "markdown",
   "metadata": {},
   "source": [
    "Se encadena a un if u otro elif para comprobar múltiples condiciones, siempre que las anteriores no se ejecuten:"
   ]
  },
  {
   "cell_type": "code",
   "execution_count": 11,
   "metadata": {},
   "outputs": [
    {
     "name": "stdout",
     "output_type": "stream",
     "text": [
      "el valor de x es distinto de 8,9 y 10\n"
     ]
    }
   ],
   "source": [
    "# Sentencia else (si no)\n",
    "x=88\n",
    "if x==8 :\n",
    "    print('el valor de x es 8')\n",
    "elif x==9:\n",
    "    print('el valor de x es 9')\n",
    "elif x==10:\n",
    "    print('el valor de x es 10')\n",
    "else:\n",
    "    # en cualquier otro caso no contemplado\n",
    "    print('el valor de x es distinto de 8,9 y 10')"
   ]
  },
  {
   "cell_type": "code",
   "execution_count": 3,
   "metadata": {},
   "outputs": [
    {
     "name": "stdout",
     "output_type": "stream",
     "text": [
      "EL numero ingresado es positivo\n",
      "El numero ingresado es par\n"
     ]
    }
   ],
   "source": [
    "# Sentencia if anidado -> implica crear un if dentro de otro if\n",
    "\n",
    "\"\"\"Ejercicio\n",
    "Escribe un programa en Python que solicite al usuario ingresar un número entero \n",
    "y luego verifique si es positivo y par. Muestra un mensaje correspondiente en cada caso.\n",
    "\n",
    "\"\"\"\n",
    "\n",
    "numero_entero = int(input('Ingrese un número entero: '))\n",
    "\n",
    "\n",
    "if numero_entero>0:\n",
    "    print('EL numero ingresado es positivo')\n",
    "\n",
    "    if numero_entero %2 == 0:\n",
    "        print('El numero ingresado es par')\n"
   ]
  },
  {
   "cell_type": "code",
   "execution_count": 15,
   "metadata": {},
   "outputs": [
    {
     "name": "stdout",
     "output_type": "stream",
     "text": [
      "EL numero ingresado es positivo\n",
      "El numero ingresado es par\n"
     ]
    }
   ],
   "source": [
    "# Sentencia if anidado -> implica crear un if dentro de otro if\n",
    "\n",
    "\"\"\"Ejercicio\n",
    "Escribe un programa en Python que solicite al usuario ingresar un número entero \n",
    "y luego verifique si es positivo y par. Muestra un mensaje correspondiente en cada caso.\n",
    "\n",
    "\"\"\"\n",
    "\n",
    "numero_entero = int(input('Ingrese un número entero: '))\n",
    "\n",
    "\n",
    "if numero_entero>0:\n",
    "    print('EL numero ingresado es positivo')\n",
    "\n",
    "    if numero_entero %2 == 0:\n",
    "        print('El numero ingresado es par')\n",
    "    else:\n",
    "        print('El numero ingresado es impar')\n",
    "\n",
    "\n"
   ]
  },
  {
   "cell_type": "code",
   "execution_count": null,
   "metadata": {},
   "outputs": [],
   "source": [
    "num = int(input('Ingrese un número entero: '))\n",
    "if num%2==0 and num>=0:\n",
    "    print(f'El número ingresado es {num}, por lo tanto es positivo y par')\n",
    "elif num%2==0 and num<0:\n",
    "    print(f'El número ingresado es {num}, por lo tanto es negativo y par')\n",
    "elif (num%2!=0 and num>=0):\n",
    "    print(f'El número ingresado es {num}, por lo tanto es positivo e impar')\n",
    "elif (num%2!=0 and num<0):\n",
    "    print(f'El número ingresado es {num}, por lo tanto es negativo e impar')"
   ]
  },
  {
   "cell_type": "markdown",
   "metadata": {},
   "source": [
    "# EJERCICIOS"
   ]
  },
  {
   "cell_type": "markdown",
   "metadata": {},
   "source": [
    "#### 1.\n",
    "Crear un programa que permita decidir a una persona cruzar la calle o no según:\n",
    "- Si semáforo esta en verde cruzar la calle\n",
    "- Si semáforo esta en rojo o amarillo no cruzar\n",
    "\n",
    "La persona debe poder ingresar el estado del semáforo por teclado"
   ]
  },
  {
   "cell_type": "code",
   "execution_count": null,
   "metadata": {},
   "outputs": [],
   "source": [
    "#paso peatonal\n",
    "\n",
    "color_semaforo = input('ingrese el color: ')\n",
    "\n",
    "if color_semaforo == \"verde\":\n",
    "    print('persona cruzala calle')\n",
    "elif color_semaforo ==\"rojo\" or color_semaforo ==\"amarillo\":\n",
    "    print('no cruza la calle')"
   ]
  },
  {
   "cell_type": "code",
   "execution_count": 9,
   "metadata": {},
   "outputs": [
    {
     "name": "stdout",
     "output_type": "stream",
     "text": [
      "La persona puede cruzar\n"
     ]
    }
   ],
   "source": [
    "semaforo = input('Ingrese color de semaforo: ')\n",
    "\n",
    "if semaforo == 'rojo' or semaforo == 'amarillo':\n",
    "    print('La persona NO puede cruzar')\n",
    "else :\n",
    "    # verde\n",
    "    print('La persona puede cruzar')"
   ]
  },
  {
   "cell_type": "code",
   "execution_count": 14,
   "metadata": {},
   "outputs": [
    {
     "name": "stdout",
     "output_type": "stream",
     "text": [
      "valor ingresado invalido!!!\n"
     ]
    }
   ],
   "source": [
    "semaforo = input('Ingrese color de semaforo: ')\n",
    "\n",
    "if semaforo == 'rojo' or semaforo == 'amarillo':\n",
    "    print('La persona NO puede cruzar')\n",
    "elif semaforo == 'verde':\n",
    "    print('La persona puede cruzar')\n",
    "else:\n",
    "    print('valor ingresado invalido!!!')"
   ]
  },
  {
   "cell_type": "markdown",
   "metadata": {},
   "source": [
    "#### 2.\n",
    "Escribir un programa que pregunte al usuario su edad y muestre por pantalla si es mayor de edad o no."
   ]
  },
  {
   "cell_type": "code",
   "execution_count": null,
   "metadata": {},
   "outputs": [],
   "source": [
    "edad =int(input(\"ingresar la edad del ususario: \"))\n",
    "if edad >= 18 :\n",
    "    # 4 espacios\n",
    "    print('el usuario es mayor de edad')\n",
    "else:\n",
    "    print('La edad es {}, el usuario es menor de edad'.format(edad))"
   ]
  },
  {
   "cell_type": "code",
   "execution_count": 7,
   "metadata": {},
   "outputs": [
    {
     "name": "stdout",
     "output_type": "stream",
     "text": [
      "Usted es menor de edad\n"
     ]
    }
   ],
   "source": [
    "edad = int(input(\"Ingrese su edad: \"))\n",
    "\n",
    "if edad >=18:\n",
    "    print('Usted es mayor de edad')\n",
    "else:\n",
    "    print('Usted es menor de edad')\n"
   ]
  },
  {
   "cell_type": "markdown",
   "metadata": {},
   "source": [
    "#### 3.\n",
    "Escribir un programa que almacene la cadena de caracteres <b>contraseña</b> en una variable, pregunte al usuario por la contraseña e imprima por pantalla si la contraseña introducida por el usuario coincide con la guardada en la variable sin tener en cuenta mayúsculas y minúsculas."
   ]
  },
  {
   "cell_type": "code",
   "execution_count": 4,
   "metadata": {},
   "outputs": [
    {
     "name": "stdout",
     "output_type": "stream",
     "text": [
      "Bienvenido!!\n"
     ]
    }
   ],
   "source": [
    "# verificar la contraseña\n",
    "password = '558889'\n",
    "\n",
    "if password=='558889':\n",
    "    print('Bienvenido!!')\n",
    "else:\n",
    "    print('error')"
   ]
  },
  {
   "cell_type": "markdown",
   "metadata": {},
   "source": [
    "### 4. \n",
    "Escribir un programa que pida al usuario un número entero y muestre por pantalla si es par o impar.\n"
   ]
  },
  {
   "cell_type": "code",
   "execution_count": 5,
   "metadata": {},
   "outputs": [
    {
     "name": "stdout",
     "output_type": "stream",
     "text": [
      "el numero ingresado es impar\n"
     ]
    }
   ],
   "source": [
    "# el numero es entero, par o impar\n",
    "\n",
    "numero_ingresado = int(input('ingrese el numero: '))\n",
    "\n",
    "\n",
    "if numero_ingresado %1 == 0:\n",
    "    print('el numero ingresado es impar')\n",
    "    if numero_ingresado %2 == 0:\n",
    "        print('el numero ingresado es par')\n"
   ]
  },
  {
   "cell_type": "markdown",
   "metadata": {},
   "source": [
    "#### 5.\n",
    "Los tramos impositivos para la declaración de la renta en un determinado país son los siguientes:\n",
    "\n",
    "<table>\n",
    "    <thead>\n",
    "        <th style=\"text-align: center\">Renta</th>\n",
    "        <th style=\"text-align: center\">% de Impuesto</th>\n",
    "    </thead>\n",
    "    <tbody>\n",
    "        <tr>\n",
    "            <td style=\"text-align: center\">Menos de 10000€</td>\n",
    "            <td style=\"text-align: center\">5%</td>\n",
    "        </tr>\n",
    "        <tr>\n",
    "            <td style=\"text-align: center\">Entre 10000€ y 20000€</td>\n",
    "            <td style=\"text-align: center\">15%</td>\n",
    "        </tr>\n",
    "        <tr>\n",
    "            <td style=\"text-align: center\">Entre 20000€ y 35000€</td>\n",
    "            <td style=\"text-align: center\">20%</td>\n",
    "        </tr>\n",
    "        <tr>\n",
    "            <td style=\"text-align: center\">Entre 35000€ y 60000€</td>\n",
    "            <td style=\"text-align: center\">30%</td>\n",
    "        </tr>\n",
    "        <tr>\n",
    "            <td style=\"text-align: center\">Más de 60000€</td>\n",
    "            <td style=\"text-align: center\">45%</td>\n",
    "        </tr>\n",
    "    </tbody>\n",
    "</table>\n",
    "\n",
    "\n",
    "Realizar un programa que pueda decir el % de impuestos que una persona deba pagar según su sueldo"
   ]
  },
  {
   "cell_type": "code",
   "execution_count": 6,
   "metadata": {},
   "outputs": [
    {
     "name": "stdout",
     "output_type": "stream",
     "text": [
      "debes dar el \"5%\" de tu salario\n"
     ]
    }
   ],
   "source": [
    "#impuestos\n",
    "salario=float(input('ingresa tu salario en euros: '))\n",
    "if salario<10000:\n",
    "    print('debes dar el \"5%\" de tu salario')\n",
    "elif salario>10000 and salario<20000:\n",
    "    print('debes dar \"15%\" de tu salario')\n",
    "elif salario>20000 and salario<35000:\n",
    "    print('debes dar \"20%\" de tu salario')\n",
    "elif salario>35000 and salario<60000:\n",
    "    print('debes dar \"30%\" de tu salario')\n",
    "elif salario>60000:\n",
    "    print('debes dar el \"45%\" de tu salario')"
   ]
  },
  {
   "cell_type": "code",
   "execution_count": 17,
   "metadata": {},
   "outputs": [
    {
     "name": "stdout",
     "output_type": "stream",
     "text": [
      "Debes pagar el 15% de tu salario de 15000.0 y total a pagar es 2250.0\n"
     ]
    }
   ],
   "source": [
    "#impuestos\n",
    "salario=float(input('ingresa tu salario en euros: '))\n",
    "\n",
    "ratio = 0\n",
    "\n",
    "if salario<10000:\n",
    "    ratio = 5\n",
    "elif salario>=10000 and salario<20000:\n",
    "    ratio = 15\n",
    "elif salario>=20000 and salario<35000:\n",
    "    ratio = 20\n",
    "elif salario>=35000 and salario<60000:\n",
    "    ratio = 30\n",
    "elif salario>=60000:\n",
    "    ratio = 45\n",
    "\n",
    "monto = salario * ratio /100\n",
    "print(f'Debes pagar el {ratio}% de tu salario de {salario} y total a pagar es {monto}')\n"
   ]
  },
  {
   "cell_type": "markdown",
   "metadata": {},
   "source": [
    "#### 6. \n",
    "Realiza un programa que lea dos números por teclado y permita elegir entre 3 opciones en un menú:\n",
    "\n",
    "- Mostrar una suma de los dos números\n",
    "- Mostrar una resta de los dos números (el primero menos el segundo)\n",
    "- Mostrar una multiplicación de los dos números\n",
    "- En caso de introducir una opción inválida, el programa informará de que no es correcta.\n"
   ]
  },
  {
   "cell_type": "code",
   "execution_count": 7,
   "metadata": {},
   "outputs": [
    {
     "name": "stdout",
     "output_type": "stream",
     "text": [
      "la multiplicacion es: 50\n"
     ]
    }
   ],
   "source": [
    "#operaciones matematicas\n",
    "num1 =10 #int(input( 'ingrese el primer numero: ')) \n",
    "num2 =5  #int(input('ingrese el segundo numero: '))\n",
    "suma = num1 + num2\n",
    "resta = num1 - num2\n",
    "multiplicacion = num1 * num2\n",
    "opcion = int(input('ingrese que opcion deseada del 0 a 3: '))\n",
    "\n",
    "if opcion == 0: \n",
    "     print(f\"la suma  de los digitos es: {suma}\")\n",
    "elif opcion == 1:\n",
    "     print(f\"la resta es: {resta}\")\n",
    "elif opcion == 2:\n",
    "     print(f\"la multiplicacion es: {multiplicacion}\")\n",
    "elif opcion == 3:\n",
    "     print('el programa informa que no es correcto ')"
   ]
  },
  {
   "cell_type": "markdown",
   "metadata": {},
   "source": [
    "#### 7.\n",
    "La pizzería Bella Napoli ofrece pizzas vegetarianas y no vegetarianas a sus clientes. Los ingredientes para cada tipo de pizza aparecen a continuación.\n",
    "\n",
    "- Ingredientes vegetarianos: Pimiento y tofu.\n",
    "- Ingredientes no vegetarianos: Peperoni, Jamón y Salmón.\n",
    "\n",
    "Escribir un programa que pregunte al usuario si quiere una pizza vegetariana o no, y en función de su respuesta le muestre un menú con los ingredientes disponibles para que elija. Solo se puede eligir un ingrediente además de la mozzarella y el tomate que están en todas la pizzas. Al final se debe mostrar por pantalla si la pizza elegida es vegetariana o no y todos los ingredientes que lleva."
   ]
  },
  {
   "cell_type": "code",
   "execution_count": 8,
   "metadata": {},
   "outputs": [
    {
     "name": "stdout",
     "output_type": "stream",
     "text": [
      "la pizza  vegetariano cuenta: ['pimiento', 'mozzarella', 'tomate']\n"
     ]
    }
   ],
   "source": [
    "ista_productos = ['pimiento','tofu','peperoni','jamon','salmon','mozzarella','tomate']\n",
    "\n",
    "#MENU\n",
    "#PIZZA VEGETARIANA                                   #Opcion del menu\n",
    "lista1 = ['pimiento','mozzarella','tomate']          # lista1 = 1\n",
    "lista2 = ['pimiento','tofu','mozzarella','tomate']   # lista2 = 2\n",
    "#PIZZA NO VEGETARIANA\n",
    "lista3 = ['peperoni','mozzarella','tomate']          # lista3 = 3\n",
    "lista4 = ['jamon','mozzarella','tomate']             # lista4 = 4\n",
    "lista5 = ['salmon','mozzarella','tomate']            # lista5 = 5\n",
    "\n",
    "menu = float(input('introducir la lista de menu: '))\n",
    "\n",
    "\n",
    "if menu == 1:\n",
    "    print(f\"la pizza vegetariano cuenta : {lista1}\")\n",
    "elif menu == 2:\n",
    "    print(f\"la pizza  vegetariano cuenta: {lista1}\")\n",
    "elif menu == 3:\n",
    "    print(f\"la pizza  no vegetariano cuenta: {lista3}\")\n",
    "elif menu == 4:\n",
    "    print(f\"la pizza no vegetariana cuenta: {lista4}\")\n",
    "elif menu == 5:\n",
    "    print(f\"la pizza no vegetariana cuenta: {lista5}\")"
   ]
  },
  {
   "cell_type": "markdown",
   "metadata": {},
   "source": [
    "#### 8.\n",
    "Escribí un programa que solicite al usuario una letra y, si es una vocal, muestre el mensaje “Es vocal”. Verificar si el usuario ingresó un string de más de un carácter y, en ese caso, informarle que no se puede procesar el dato.\n"
   ]
  },
  {
   "cell_type": "code",
   "execution_count": 10,
   "metadata": {},
   "outputs": [
    {
     "name": "stdout",
     "output_type": "stream",
     "text": [
      "la letra ingresada es consonantes\n"
     ]
    }
   ],
   "source": [
    "#SOLICITANDO A UN USUARIO\n",
    "\n",
    "usuario =(float(input('el usuario ingresa una letra: ')))\n",
    "consonantes = ['b','c','d','f','g','h','j','k','l','m','n','ñ','p','q','r','s','t','v','w','x','y','z'] #opcion 1\n",
    "vocal = ['a','e','i','o','u'] #opcion 2\n",
    "\n",
    "#escojer la opcion:\n",
    "if usuario == 1:\n",
    "    print(\"la letra ingresada es consonantes\")\n",
    "elif usuario == 2:\n",
    "    print(\"la letra ingresada es vocal\")\n",
    "else:\n",
    "    print(\"no puede procesar el dato\")"
   ]
  }
 ],
 "metadata": {
  "kernelspec": {
   "display_name": "Python 3 (ipykernel)",
   "language": "python",
   "name": "python3"
  },
  "language_info": {
   "codemirror_mode": {
    "name": "ipython",
    "version": 3
   },
   "file_extension": ".py",
   "mimetype": "text/x-python",
   "name": "python",
   "nbconvert_exporter": "python",
   "pygments_lexer": "ipython3",
   "version": "3.10.13"
  }
 },
 "nbformat": 4,
 "nbformat_minor": 4
}
